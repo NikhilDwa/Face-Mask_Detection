{
 "cells": [
  {
   "cell_type": "markdown",
   "metadata": {},
   "source": [
    "# Importing important libraries"
   ]
  },
  {
   "cell_type": "code",
   "execution_count": 1,
   "metadata": {},
   "outputs": [],
   "source": [
    "import numpy as np\n",
    "import pandas as pd\n",
    "import seaborn as sns\n",
    "import matplotlib.pyplot as plt \n",
    "import tensorflow as tf\n",
    "from tensorflow import keras"
   ]
  },
  {
   "cell_type": "markdown",
   "metadata": {},
   "source": [
    "# Importing datasets"
   ]
  },
  {
   "cell_type": "code",
   "execution_count": 2,
   "metadata": {},
   "outputs": [],
   "source": [
    "train_dir = r'E:\\Python\\Projects\\Face Mask Detection System\\dataset\\train' \n",
    "validation_dir = r'E:\\Python\\Projects\\Face Mask Detection System\\dataset\\validation'\n",
    "test_dir = r'E:\\Python\\Projects\\Face Mask Detection System\\dataset\\test'"
   ]
  },
  {
   "cell_type": "code",
   "execution_count": 3,
   "metadata": {},
   "outputs": [],
   "source": [
    "from tensorflow.keras.preprocessing.image import ImageDataGenerator"
   ]
  },
  {
   "cell_type": "code",
   "execution_count": 4,
   "metadata": {},
   "outputs": [
    {
     "name": "stdout",
     "output_type": "stream",
     "text": [
      "Found 2000 images belonging to 2 classes.\n",
      "Found 1000 images belonging to 2 classes.\n"
     ]
    }
   ],
   "source": [
    "train_datagen = ImageDataGenerator(rescale = 1./255)\n",
    "\n",
    "test_datagen = ImageDataGenerator(rescale = 1./255)\n",
    "\n",
    "train_generator = train_datagen.flow_from_directory(\n",
    "    train_dir,\n",
    "    target_size =(150,150),\n",
    "    batch_size = 20,\n",
    "    class_mode = 'binary')\n",
    "\n",
    "validation_generator = test_datagen.flow_from_directory(\n",
    "    validation_dir,\n",
    "    target_size =(150,150),\n",
    "    batch_size = 20,\n",
    "    class_mode = 'binary')\n",
    "\n",
    "#batch size give same number of image every time to generator"
   ]
  },
  {
   "cell_type": "code",
   "execution_count": 5,
   "metadata": {},
   "outputs": [],
   "source": [
    "from tensorflow.keras import layers\n",
    "from tensorflow.keras import models"
   ]
  },
  {
   "cell_type": "markdown",
   "metadata": {},
   "source": [
    "# Creating model"
   ]
  },
  {
   "cell_type": "code",
   "execution_count": 6,
   "metadata": {},
   "outputs": [],
   "source": [
    "model = models.Sequential() \n",
    "\n",
    "model.add(layers.Conv2D(32, (3,3), activation='relu', input_shape =(150,150,3)))\n",
    "model.add(layers.MaxPooling2D((2,2)))\n",
    "\n",
    "model.add(layers.Conv2D(64, (3,3), activation='relu'))\n",
    "model.add(layers.MaxPooling2D((2,2)))\n",
    "\n",
    "model.add(layers.Conv2D(128, (3,3), activation='relu'))\n",
    "model.add(layers.MaxPooling2D((2,2)))\n",
    "\n",
    "model.add(layers.Conv2D(128, (3,3), activation='relu'))\n",
    "model.add(layers.MaxPooling2D((2,2)))\n",
    "\n",
    "model.add(layers.Flatten())\n",
    "model.add(layers.Dense(512, activation = 'relu'))\n",
    "model.add(layers.Dense(1, activation='sigmoid'))"
   ]
  },
  {
   "cell_type": "code",
   "execution_count": 7,
   "metadata": {},
   "outputs": [
    {
     "name": "stdout",
     "output_type": "stream",
     "text": [
      "Model: \"sequential\"\n",
      "_________________________________________________________________\n",
      "Layer (type)                 Output Shape              Param #   \n",
      "=================================================================\n",
      "conv2d (Conv2D)              (None, 148, 148, 32)      896       \n",
      "_________________________________________________________________\n",
      "max_pooling2d (MaxPooling2D) (None, 74, 74, 32)        0         \n",
      "_________________________________________________________________\n",
      "conv2d_1 (Conv2D)            (None, 72, 72, 64)        18496     \n",
      "_________________________________________________________________\n",
      "max_pooling2d_1 (MaxPooling2 (None, 36, 36, 64)        0         \n",
      "_________________________________________________________________\n",
      "conv2d_2 (Conv2D)            (None, 34, 34, 128)       73856     \n",
      "_________________________________________________________________\n",
      "max_pooling2d_2 (MaxPooling2 (None, 17, 17, 128)       0         \n",
      "_________________________________________________________________\n",
      "conv2d_3 (Conv2D)            (None, 15, 15, 128)       147584    \n",
      "_________________________________________________________________\n",
      "max_pooling2d_3 (MaxPooling2 (None, 7, 7, 128)         0         \n",
      "_________________________________________________________________\n",
      "flatten (Flatten)            (None, 6272)              0         \n",
      "_________________________________________________________________\n",
      "dense (Dense)                (None, 512)               3211776   \n",
      "_________________________________________________________________\n",
      "dense_1 (Dense)              (None, 1)                 513       \n",
      "=================================================================\n",
      "Total params: 3,453,121\n",
      "Trainable params: 3,453,121\n",
      "Non-trainable params: 0\n",
      "_________________________________________________________________\n"
     ]
    }
   ],
   "source": [
    "model.summary()"
   ]
  },
  {
   "cell_type": "code",
   "execution_count": 8,
   "metadata": {},
   "outputs": [],
   "source": [
    "from tensorflow.keras import optimizers"
   ]
  },
  {
   "cell_type": "code",
   "execution_count": 9,
   "metadata": {},
   "outputs": [],
   "source": [
    "model.compile(loss='binary_crossentropy', optimizer=optimizers.RMSprop(lr=1e-4), metrics = ['acc'])"
   ]
  },
  {
   "cell_type": "markdown",
   "metadata": {},
   "source": [
    "# Fitting the model "
   ]
  },
  {
   "cell_type": "code",
   "execution_count": 12,
   "metadata": {},
   "outputs": [
    {
     "name": "stdout",
     "output_type": "stream",
     "text": [
      "Epoch 1/20\n",
      "100/100 [==============================] - ETA: 0s - loss: 0.0101 - acc: 0.9970"
     ]
    },
    {
     "name": "stderr",
     "output_type": "stream",
     "text": [
      "D:\\Program Files\\Anaconda3\\envs\\tf\\lib\\site-packages\\PIL\\Image.py:951: UserWarning: Palette images with Transparency expressed in bytes should be converted to RGBA images\n",
      "  warnings.warn(\n"
     ]
    },
    {
     "name": "stdout",
     "output_type": "stream",
     "text": [
      "100/100 [==============================] - 32s 316ms/step - loss: 0.0101 - acc: 0.9970 - val_loss: 2.1575 - val_acc: 0.7810\n",
      "Epoch 2/20\n",
      "100/100 [==============================] - 33s 327ms/step - loss: 0.0116 - acc: 0.9965 - val_loss: 2.4425 - val_acc: 0.7750\n",
      "Epoch 3/20\n",
      "100/100 [==============================] - 33s 326ms/step - loss: 0.0206 - acc: 0.9935 - val_loss: 1.9774 - val_acc: 0.7770\n",
      "Epoch 4/20\n",
      "100/100 [==============================] - 32s 324ms/step - loss: 0.0098 - acc: 0.9975 - val_loss: 2.3951 - val_acc: 0.7670\n",
      "Epoch 5/20\n",
      "100/100 [==============================] - 32s 325ms/step - loss: 0.0080 - acc: 0.9980 - val_loss: 2.0277 - val_acc: 0.7750\n",
      "Epoch 6/20\n",
      "100/100 [==============================] - 33s 334ms/step - loss: 0.0128 - acc: 0.9975 - val_loss: 2.3382 - val_acc: 0.7800\n",
      "Epoch 7/20\n",
      "100/100 [==============================] - 33s 332ms/step - loss: 0.0079 - acc: 0.9985 - val_loss: 2.7794 - val_acc: 0.7760\n",
      "Epoch 8/20\n",
      "100/100 [==============================] - 33s 327ms/step - loss: 0.0054 - acc: 0.9980 - val_loss: 1.8342 - val_acc: 0.8000\n",
      "Epoch 9/20\n",
      "100/100 [==============================] - 33s 330ms/step - loss: 0.0153 - acc: 0.9960 - val_loss: 2.8097 - val_acc: 0.7610\n",
      "Epoch 10/20\n",
      "100/100 [==============================] - 33s 334ms/step - loss: 0.0078 - acc: 0.9970 - val_loss: 2.4133 - val_acc: 0.7770\n",
      "Epoch 11/20\n",
      "100/100 [==============================] - 33s 332ms/step - loss: 0.0082 - acc: 0.9985 - val_loss: 2.5874 - val_acc: 0.7700\n",
      "Epoch 12/20\n",
      "100/100 [==============================] - 33s 331ms/step - loss: 0.0052 - acc: 0.9975 - val_loss: 2.9708 - val_acc: 0.7720\n",
      "Epoch 13/20\n",
      "100/100 [==============================] - 32s 321ms/step - loss: 0.0095 - acc: 0.9970 - val_loss: 2.7640 - val_acc: 0.7590\n",
      "Epoch 14/20\n",
      "100/100 [==============================] - 33s 333ms/step - loss: 0.0042 - acc: 0.9985 - val_loss: 2.7407 - val_acc: 0.7790\n",
      "Epoch 15/20\n",
      "100/100 [==============================] - 34s 343ms/step - loss: 9.2334e-04 - acc: 1.0000 - val_loss: 3.5491 - val_acc: 0.7690\n",
      "Epoch 16/20\n",
      "100/100 [==============================] - 33s 326ms/step - loss: 0.0132 - acc: 0.9965 - val_loss: 3.0512 - val_acc: 0.7660\n",
      "Epoch 17/20\n",
      "100/100 [==============================] - 32s 324ms/step - loss: 0.0016 - acc: 0.9995 - val_loss: 2.9725 - val_acc: 0.7810\n",
      "Epoch 18/20\n",
      "100/100 [==============================] - 33s 330ms/step - loss: 0.0017 - acc: 0.9995 - val_loss: 3.1054 - val_acc: 0.7760\n",
      "Epoch 19/20\n",
      "100/100 [==============================] - 33s 328ms/step - loss: 0.0070 - acc: 0.9980 - val_loss: 4.0230 - val_acc: 0.7650\n",
      "Epoch 20/20\n",
      "100/100 [==============================] - 32s 325ms/step - loss: 0.0033 - acc: 0.9995 - val_loss: 4.1536 - val_acc: 0.7560\n"
     ]
    }
   ],
   "source": [
    "history = model.fit_generator(\n",
    "    train_generator,\n",
    "    steps_per_epoch = 100,\n",
    "    epochs= 20,\n",
    "    validation_data = validation_generator,\n",
    "    validation_steps = 50\n",
    ")"
   ]
  },
  {
   "cell_type": "markdown",
   "metadata": {},
   "source": [
    "# Training loss and accuracy plot"
   ]
  },
  {
   "cell_type": "code",
   "execution_count": 13,
   "metadata": {},
   "outputs": [
    {
     "data": {
      "image/png": "[encoded data removed]",
      "text/plain": [
       "<Figure size 576x360 with 1 Axes>"
      ]
     },
     "metadata": {
      "needs_background": "light"
     },
     "output_type": "display_data"
    }
   ],
   "source": [
    "pd.DataFrame(history.history).plot(figsize = (8,5))\n",
    "plt.grid(True)\n",
    "plt.gca().set_ylim(0,1)\n",
    "plt.show()"
   ]
  },
  {
   "cell_type": "code",
   "execution_count": 17,
   "metadata": {},
   "outputs": [
    {
     "name": "stdout",
     "output_type": "stream",
     "text": [
      "Found 1000 images belonging to 2 classes.\n"
     ]
    }
   ],
   "source": [
    "test_generator = test_datagen.flow_from_directory(\n",
    "    test_dir,\n",
    "    target_size =(150,150),\n",
    "    batch_size = 20,\n",
    "    class_mode = 'binary')"
   ]
  },
  {
   "cell_type": "markdown",
   "metadata": {},
   "source": [
    "# Evaluating model"
   ]
  },
  {
   "cell_type": "code",
   "execution_count": null,
   "metadata": {},
   "outputs": [],
   "source": [
    "model.evaluate_generator(test_generator, steps =50 )"
   ]
  }
 ],
 "metadata": {
  "kernelspec": {
   "display_name": "Python 3",
   "language": "python",
   "name": "python3"
  },
  "language_info": {
   "codemirror_mode": {
    "name": "ipython",
    "version": 3
   },
   "file_extension": ".py",
   "mimetype": "text/x-python",
   "name": "python",
   "nbconvert_exporter": "python",
   "pygments_lexer": "ipython3",
   "version": "3.8.5"
  }
 },
 "nbformat": 4,
 "nbformat_minor": 4
}
