{
 "cells": [
  {
   "cell_type": "markdown",
   "metadata": {},
   "source": [
    "# Importing important libraries"
   ]
  },
  {
   "cell_type": "code",
   "execution_count": 1,
   "metadata": {},
   "outputs": [],
   "source": [
    "import numpy as np\n",
    "import pandas as pd\n",
    "import seaborn as sns\n",
    "import matplotlib.pyplot as plt \n",
    "import tensorflow as tf\n",
    "from tensorflow import keras"
   ]
  },
  {
   "cell_type": "markdown",
   "metadata": {},
   "source": [
    "# Importing datasets"
   ]
  },
  {
   "cell_type": "code",
   "execution_count": 2,
   "metadata": {},
   "outputs": [],
   "source": [
    "train_dir = r'E:\\Python\\Projects\\Face Mask Detection System\\dataset\\train' \n",
    "validation_dir = r'E:\\Python\\Projects\\Face Mask Detection System\\dataset\\validation'\n",
    "test_dir = r'E:\\Python\\Projects\\Face Mask Detection System\\dataset\\test'"
   ]
  },
  {
   "cell_type": "code",
   "execution_count": 3,
   "metadata": {},
   "outputs": [],
   "source": [
    "from tensorflow.keras.preprocessing.image import ImageDataGenerator"
   ]
  },
  {
   "cell_type": "code",
   "execution_count": 4,
   "metadata": {},
   "outputs": [
    {
     "name": "stdout",
     "output_type": "stream",
     "text": [
      "Found 2000 images belonging to 2 classes.\n",
      "Found 1000 images belonging to 2 classes.\n"
     ]
    }
   ],
   "source": [
    "train_datagen = ImageDataGenerator(rescale = 1./255)\n",
    "\n",
    "test_datagen = ImageDataGenerator(rescale = 1./255)\n",
    "\n",
    "train_generator = train_datagen.flow_from_directory(\n",
    "    train_dir,\n",
    "    target_size =(150,150),\n",
    "    batch_size = 20,\n",
    "    class_mode = 'binary')\n",
    "\n",
    "validation_generator = test_datagen.flow_from_directory(\n",
    "    validation_dir,\n",
    "    target_size =(150,150),\n",
    "    batch_size = 20,\n",
    "    class_mode = 'binary')\n",
    "\n",
    "#batch size give same number of image every time to generator"
   ]
  },
  {
   "cell_type": "code",
   "execution_count": 5,
   "metadata": {},
   "outputs": [],
   "source": [
    "from tensorflow.keras import layers\n",
    "from tensorflow.keras import models"
   ]
  },
  {
   "cell_type": "markdown",
   "metadata": {},
   "source": [
    "# Creating model"
   ]
  },
  {
   "cell_type": "code",
   "execution_count": 6,
   "metadata": {},
   "outputs": [],
   "source": [
    "model = models.Sequential() \n",
    "\n",
    "model.add(layers.Conv2D(32, (3,3), activation='relu', input_shape =(150,150,3)))\n",
    "model.add(layers.MaxPooling2D((2,2)))\n",
    "\n",
    "model.add(layers.Conv2D(64, (3,3), activation='relu'))\n",
    "model.add(layers.MaxPooling2D((2,2)))\n",
    "\n",
    "model.add(layers.Conv2D(128, (3,3), activation='relu'))\n",
    "model.add(layers.MaxPooling2D((2,2)))\n",
    "\n",
    "model.add(layers.Conv2D(128, (3,3), activation='relu'))\n",
    "model.add(layers.MaxPooling2D((2,2)))\n",
    "\n",
    "model.add(layers.Flatten())\n",
    "model.add(layers.Dense(512, activation = 'relu'))\n",
    "model.add(layers.Dense(1, activation='sigmoid'))"
   ]
  },
  {
   "cell_type": "code",
   "execution_count": 7,
   "metadata": {},
   "outputs": [
    {
     "name": "stdout",
     "output_type": "stream",
     "text": [
      "Model: \"sequential\"\n",
      "_________________________________________________________________\n",
      "Layer (type)                 Output Shape              Param #   \n",
      "=================================================================\n",
      "conv2d (Conv2D)              (None, 148, 148, 32)      896       \n",
      "_________________________________________________________________\n",
      "max_pooling2d (MaxPooling2D) (None, 74, 74, 32)        0         \n",
      "_________________________________________________________________\n",
      "conv2d_1 (Conv2D)            (None, 72, 72, 64)        18496     \n",
      "_________________________________________________________________\n",
      "max_pooling2d_1 (MaxPooling2 (None, 36, 36, 64)        0         \n",
      "_________________________________________________________________\n",
      "conv2d_2 (Conv2D)            (None, 34, 34, 128)       73856     \n",
      "_________________________________________________________________\n",
      "max_pooling2d_2 (MaxPooling2 (None, 17, 17, 128)       0         \n",
      "_________________________________________________________________\n",
      "conv2d_3 (Conv2D)            (None, 15, 15, 128)       147584    \n",
      "_________________________________________________________________\n",
      "max_pooling2d_3 (MaxPooling2 (None, 7, 7, 128)         0         \n",
      "_________________________________________________________________\n",
      "flatten (Flatten)            (None, 6272)              0         \n",
      "_________________________________________________________________\n",
      "dense (Dense)                (None, 512)               3211776   \n",
      "_________________________________________________________________\n",
      "dense_1 (Dense)              (None, 1)                 513       \n",
      "=================================================================\n",
      "Total params: 3,453,121\n",
      "Trainable params: 3,453,121\n",
      "Non-trainable params: 0\n",
      "_________________________________________________________________\n"
     ]
    }
   ],
   "source": [
    "model.summary()"
   ]
  },
  {
   "cell_type": "code",
   "execution_count": 8,
   "metadata": {},
   "outputs": [],
   "source": [
    "from tensorflow.keras import optimizers"
   ]
  },
  {
   "cell_type": "code",
   "execution_count": 9,
   "metadata": {},
   "outputs": [],
   "source": [
    "model.compile(loss='binary_crossentropy', optimizer=optimizers.RMSprop(lr=1e-4), metrics = ['acc'])"
   ]
  },
  {
   "cell_type": "markdown",
   "metadata": {},
   "source": [
    "# Fitting the model "
   ]
  },
  {
   "cell_type": "code",
   "execution_count": 10,
   "metadata": {},
   "outputs": [
    {
     "name": "stdout",
     "output_type": "stream",
     "text": [
      "WARNING:tensorflow:From <ipython-input-10-2e922f294269>:1: Model.fit_generator (from tensorflow.python.keras.engine.training) is deprecated and will be removed in a future version.\n",
      "Instructions for updating:\n",
      "Please use Model.fit, which supports generators.\n",
      "Epoch 1/20\n",
      "100/100 [==============================] - ETA: 0s - loss: 0.3620 - acc: 0.8275"
     ]
    },
    {
     "name": "stderr",
     "output_type": "stream",
     "text": [
      "D:\\Program Files\\Anaconda3\\envs\\tf\\lib\\site-packages\\PIL\\Image.py:951: UserWarning: Palette images with Transparency expressed in bytes should be converted to RGBA images\n",
      "  warnings.warn(\n"
     ]
    },
    {
     "name": "stdout",
     "output_type": "stream",
     "text": [
      "100/100 [==============================] - 32s 325ms/step - loss: 0.3620 - acc: 0.8275 - val_loss: 0.2770 - val_acc: 0.8890\n",
      "Epoch 2/20\n",
      "100/100 [==============================] - 33s 327ms/step - loss: 0.1176 - acc: 0.9565 - val_loss: 0.4606 - val_acc: 0.8230\n",
      "Epoch 3/20\n",
      "100/100 [==============================] - 33s 327ms/step - loss: 0.0861 - acc: 0.9705 - val_loss: 0.7235 - val_acc: 0.7810\n",
      "Epoch 4/20\n",
      "100/100 [==============================] - 33s 327ms/step - loss: 0.0719 - acc: 0.9755 - val_loss: 0.5453 - val_acc: 0.8250\n",
      "Epoch 5/20\n",
      "100/100 [==============================] - 34s 335ms/step - loss: 0.0689 - acc: 0.9785 - val_loss: 1.8448 - val_acc: 0.7450\n",
      "Epoch 6/20\n",
      "100/100 [==============================] - 33s 328ms/step - loss: 0.0560 - acc: 0.9830 - val_loss: 1.1812 - val_acc: 0.7730\n",
      "Epoch 7/20\n",
      "100/100 [==============================] - 33s 329ms/step - loss: 0.0477 - acc: 0.9840 - val_loss: 1.6551 - val_acc: 0.7740\n",
      "Epoch 8/20\n",
      "100/100 [==============================] - 33s 328ms/step - loss: 0.0447 - acc: 0.9855 - val_loss: 0.6615 - val_acc: 0.8270\n",
      "Epoch 9/20\n",
      "100/100 [==============================] - 33s 329ms/step - loss: 0.0381 - acc: 0.9885 - val_loss: 1.0435 - val_acc: 0.7920\n",
      "Epoch 10/20\n",
      "100/100 [==============================] - 33s 329ms/step - loss: 0.0366 - acc: 0.9905 - val_loss: 1.3740 - val_acc: 0.7770\n",
      "Epoch 11/20\n",
      "100/100 [==============================] - 33s 329ms/step - loss: 0.0287 - acc: 0.9910 - val_loss: 1.0286 - val_acc: 0.8100\n",
      "Epoch 12/20\n",
      "100/100 [==============================] - 33s 328ms/step - loss: 0.0266 - acc: 0.9900 - val_loss: 1.0283 - val_acc: 0.8050\n",
      "Epoch 13/20\n",
      "100/100 [==============================] - 33s 328ms/step - loss: 0.0245 - acc: 0.9920 - val_loss: 1.2598 - val_acc: 0.7960\n",
      "Epoch 14/20\n",
      "100/100 [==============================] - 33s 328ms/step - loss: 0.0247 - acc: 0.9955 - val_loss: 1.2201 - val_acc: 0.7980\n",
      "Epoch 15/20\n",
      "100/100 [==============================] - 33s 327ms/step - loss: 0.0255 - acc: 0.9940 - val_loss: 1.0164 - val_acc: 0.8150\n",
      "Epoch 16/20\n",
      "100/100 [==============================] - 33s 328ms/step - loss: 0.0192 - acc: 0.9950 - val_loss: 1.5066 - val_acc: 0.7920\n",
      "Epoch 17/20\n",
      "100/100 [==============================] - 33s 327ms/step - loss: 0.0186 - acc: 0.9950 - val_loss: 1.5095 - val_acc: 0.7910\n",
      "Epoch 18/20\n",
      "100/100 [==============================] - 33s 328ms/step - loss: 0.0147 - acc: 0.9955 - val_loss: 1.9124 - val_acc: 0.7750\n",
      "Epoch 19/20\n",
      "100/100 [==============================] - 33s 328ms/step - loss: 0.0118 - acc: 0.9960 - val_loss: 1.6141 - val_acc: 0.7970\n",
      "Epoch 20/20\n",
      "100/100 [==============================] - 33s 329ms/step - loss: 0.0152 - acc: 0.9950 - val_loss: 2.1478 - val_acc: 0.7790\n"
     ]
    }
   ],
   "source": [
    "history = model.fit_generator(\n",
    "    train_generator,\n",
    "    steps_per_epoch = 100,\n",
    "    epochs= 20,\n",
    "    validation_data = validation_generator,\n",
    "    validation_steps = 50\n",
    ")"
   ]
  },
  {
   "cell_type": "markdown",
   "metadata": {},
   "source": [
    "# Training loss and accuracy plot"
   ]
  },
  {
   "cell_type": "code",
   "execution_count": 11,
   "metadata": {},
   "outputs": [
    {
     "data": {
      "image/png": "[encoded data removed]",
      "text/plain": [
       "<Figure size 576x360 with 1 Axes>"
      ]
     },
     "metadata": {
      "needs_background": "light"
     },
     "output_type": "display_data"
    }
   ],
   "source": [
    "pd.DataFrame(history.history).plot(figsize = (8,5))\n",
    "plt.grid(True)\n",
    "plt.gca().set_ylim(0,1)\n",
    "plt.show()"
   ]
  },
  {
   "cell_type": "code",
   "execution_count": 12,
   "metadata": {},
   "outputs": [
    {
     "name": "stdout",
     "output_type": "stream",
     "text": [
      "Found 1000 images belonging to 2 classes.\n"
     ]
    }
   ],
   "source": [
    "test_generator = test_datagen.flow_from_directory(\n",
    "    test_dir,\n",
    "    target_size =(150,150),\n",
    "    batch_size = 20,\n",
    "    class_mode = 'binary')"
   ]
  },
  {
   "cell_type": "markdown",
   "metadata": {},
   "source": [
    "# Evaluating model"
   ]
  },
  {
   "cell_type": "code",
   "execution_count": 13,
   "metadata": {},
   "outputs": [
    {
     "name": "stdout",
     "output_type": "stream",
     "text": [
      "WARNING:tensorflow:From <ipython-input-13-f2fce1a6ced1>:1: Model.evaluate_generator (from tensorflow.python.keras.engine.training) is deprecated and will be removed in a future version.\n",
      "Instructions for updating:\n",
      "Please use Model.evaluate, which supports generators.\n"
     ]
    },
    {
     "name": "stderr",
     "output_type": "stream",
     "text": [
      "D:\\Program Files\\Anaconda3\\envs\\tf\\lib\\site-packages\\PIL\\Image.py:951: UserWarning: Palette images with Transparency expressed in bytes should be converted to RGBA images\n",
      "  warnings.warn(\n"
     ]
    },
    {
     "data": {
      "text/plain": [
       "[3.711902379989624, 0.6230000257492065]"
      ]
     },
     "execution_count": 13,
     "metadata": {},
     "output_type": "execute_result"
    }
   ],
   "source": [
    "model.evaluate_generator(test_generator, steps =50 )"
   ]
  }
 ],
 "metadata": {
  "kernelspec": {
   "display_name": "Python 3",
   "language": "python",
   "name": "python3"
  },
  "language_info": {
   "codemirror_mode": {
    "name": "ipython",
    "version": 3
   },
   "file_extension": ".py",
   "mimetype": "text/x-python",
   "name": "python",
   "nbconvert_exporter": "python",
   "pygments_lexer": "ipython3",
   "version": "3.8.5"
  }
 },
 "nbformat": 4,
 "nbformat_minor": 4
}
